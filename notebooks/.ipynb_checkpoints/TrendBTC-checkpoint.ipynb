{
 "cells": [
  {
   "cell_type": "code",
   "execution_count": 1,
   "id": "abd20a31-aef1-4778-bd2a-2338bfbc8b76",
   "metadata": {},
   "outputs": [
    {
     "name": "stderr",
     "output_type": "stream",
     "text": [
      "fatal: bad revision 'HEAD'\n"
     ]
    }
   ],
   "source": [
    "import pandas as pd\n",
    "import numpy as np\n",
    "import altair as alt\n",
    "import plotly.graph_objects as go\n",
    "\n",
    "from cryptodatapy.transform.clean import CleanData\n",
    "from cryptodatapy.extract.datarequest import DataRequest\n",
    "from cryptodatapy.extract.getdata import GetData\n",
    "from cryptodatapy.util.datacatalog import DataCatalog \n",
    "\n",
    "from factorlab.feature_engineering.transformations import Transform\n",
    "from factorlab.feature_engineering.factors.trend import Trend\n",
    "from factorlab.signal_generation.signal import Signal\n",
    "from factorlab.strategy_backtesting.performance import Performance\n",
    "from factorlab.strategy_backtesting.metrics import Metrics\n",
    "from factorlab.data_viz.plot import plot_series, plot_bar, plot_table, plot_scatter, plot_heatmap"
   ]
  },
  {
   "cell_type": "markdown",
   "id": "389b96f1-b33e-41ba-b295-c47f6086d79f",
   "metadata": {},
   "source": [
    "# TrendBTC"
   ]
  },
  {
   "cell_type": "markdown",
   "id": "205e1019-fd7f-4fdc-8954-4996b5e9cf11",
   "metadata": {},
   "source": [
    "## If the Trend is Your Friend, TrendBTC is Your BFF"
   ]
  },
  {
   "cell_type": "code",
   "execution_count": 2,
   "id": "7007e956-8ab2-4d7a-93c4-d5da0e5d95bc",
   "metadata": {},
   "outputs": [],
   "source": [
    "# df = pd.read_parquet('s3://systamental/blackbox/data/crypto/markets/perpetual_futures/daily/ohlcv/clean/binance.parquet')"
   ]
  },
  {
   "cell_type": "code",
   "execution_count": 3,
   "id": "d393a090-5590-408a-9ba7-37208cced694",
   "metadata": {},
   "outputs": [],
   "source": [
    "data_req = DataRequest(\n",
    "    source='ccxt',\n",
    "    fields = ['open', 'high', 'low', 'close', 'volume', 'funding_rate'],\n",
    "    mkt_type='perpetual_future'\n",
    ")"
   ]
  },
  {
   "cell_type": "code",
   "execution_count": 4,
   "id": "43fd3d5b-c9db-4917-bff9-1d0e9632ebac",
   "metadata": {},
   "outputs": [
    {
     "name": "stderr",
     "output_type": "stream",
     "text": [
      "Fetching OHLCV data: 100%|████████████████████| 1/1 [00:04<00:00,  4.52s/ticker]\n",
      "Fetching funding rates: 100%|█████████████████| 1/1 [00:06<00:00,  6.43s/ticker]\n"
     ]
    }
   ],
   "source": [
    "df = GetData(data_req).get_series()"
   ]
  },
  {
   "cell_type": "code",
   "execution_count": 5,
   "id": "ca11f2c1-3c70-4fda-9e3e-3b59f90099eb",
   "metadata": {},
   "outputs": [
    {
     "data": {
      "text/html": [
       "<div>\n",
       "<style scoped>\n",
       "    .dataframe tbody tr th:only-of-type {\n",
       "        vertical-align: middle;\n",
       "    }\n",
       "\n",
       "    .dataframe tbody tr th {\n",
       "        vertical-align: top;\n",
       "    }\n",
       "\n",
       "    .dataframe thead th {\n",
       "        text-align: right;\n",
       "    }\n",
       "</style>\n",
       "<table border=\"1\" class=\"dataframe\">\n",
       "  <thead>\n",
       "    <tr style=\"text-align: right;\">\n",
       "      <th></th>\n",
       "      <th></th>\n",
       "      <th>open</th>\n",
       "      <th>high</th>\n",
       "      <th>low</th>\n",
       "      <th>close</th>\n",
       "      <th>volume</th>\n",
       "      <th>funding_rate</th>\n",
       "    </tr>\n",
       "    <tr>\n",
       "      <th>date</th>\n",
       "      <th>ticker</th>\n",
       "      <th></th>\n",
       "      <th></th>\n",
       "      <th></th>\n",
       "      <th></th>\n",
       "      <th></th>\n",
       "      <th></th>\n",
       "    </tr>\n",
       "  </thead>\n",
       "  <tbody>\n",
       "    <tr>\n",
       "      <th>2019-09-08</th>\n",
       "      <th>BTC/USDT:USDT</th>\n",
       "      <td>10000.0</td>\n",
       "      <td>10412.65</td>\n",
       "      <td>10000.0</td>\n",
       "      <td>10391.63</td>\n",
       "      <td>3096.291</td>\n",
       "      <td>&lt;NA&gt;</td>\n",
       "    </tr>\n",
       "    <tr>\n",
       "      <th>2019-09-09</th>\n",
       "      <th>BTC/USDT:USDT</th>\n",
       "      <td>10316.62</td>\n",
       "      <td>10475.54</td>\n",
       "      <td>10077.22</td>\n",
       "      <td>10307.0</td>\n",
       "      <td>14824.373</td>\n",
       "      <td>&lt;NA&gt;</td>\n",
       "    </tr>\n",
       "    <tr>\n",
       "      <th>2019-09-10</th>\n",
       "      <th>BTC/USDT:USDT</th>\n",
       "      <td>10307.0</td>\n",
       "      <td>10382.97</td>\n",
       "      <td>9940.87</td>\n",
       "      <td>10102.02</td>\n",
       "      <td>9068.955</td>\n",
       "      <td>0.0002</td>\n",
       "    </tr>\n",
       "    <tr>\n",
       "      <th>2019-09-11</th>\n",
       "      <th>BTC/USDT:USDT</th>\n",
       "      <td>10094.27</td>\n",
       "      <td>10293.11</td>\n",
       "      <td>9884.31</td>\n",
       "      <td>10159.55</td>\n",
       "      <td>10897.922</td>\n",
       "      <td>0.0003</td>\n",
       "    </tr>\n",
       "    <tr>\n",
       "      <th>2019-09-12</th>\n",
       "      <th>BTC/USDT:USDT</th>\n",
       "      <td>10163.06</td>\n",
       "      <td>10450.13</td>\n",
       "      <td>10042.12</td>\n",
       "      <td>10415.13</td>\n",
       "      <td>15609.634</td>\n",
       "      <td>0.0003</td>\n",
       "    </tr>\n",
       "  </tbody>\n",
       "</table>\n",
       "</div>"
      ],
      "text/plain": [
       "                              open      high       low     close     volume  \\\n",
       "date       ticker                                                             \n",
       "2019-09-08 BTC/USDT:USDT   10000.0  10412.65   10000.0  10391.63   3096.291   \n",
       "2019-09-09 BTC/USDT:USDT  10316.62  10475.54  10077.22   10307.0  14824.373   \n",
       "2019-09-10 BTC/USDT:USDT   10307.0  10382.97   9940.87  10102.02   9068.955   \n",
       "2019-09-11 BTC/USDT:USDT  10094.27  10293.11   9884.31  10159.55  10897.922   \n",
       "2019-09-12 BTC/USDT:USDT  10163.06  10450.13  10042.12  10415.13  15609.634   \n",
       "\n",
       "                          funding_rate  \n",
       "date       ticker                       \n",
       "2019-09-08 BTC/USDT:USDT          <NA>  \n",
       "2019-09-09 BTC/USDT:USDT          <NA>  \n",
       "2019-09-10 BTC/USDT:USDT        0.0002  \n",
       "2019-09-11 BTC/USDT:USDT        0.0003  \n",
       "2019-09-12 BTC/USDT:USDT        0.0003  "
      ]
     },
     "execution_count": 5,
     "metadata": {},
     "output_type": "execute_result"
    }
   ],
   "source": [
    "df.head()"
   ]
  },
  {
   "cell_type": "code",
   "execution_count": 6,
   "id": "4d584288-00ba-4efb-9fe1-e76ab0274e8c",
   "metadata": {},
   "outputs": [],
   "source": [
    "# filter tickers\n",
    "clean = CleanData(df)\n",
    "# min obs ts, cs\n",
    "# clean.filter_min_nobs(ts_obs=90, cs_obs=5)\n",
    "# tickers\n",
    "df = clean.df\n",
    "# rename ticker\n",
    "df = df.rename(index={'BTC/USDT:USDT': 'BTC'}, level='ticker')\n",
    "tickers = df.index.get_level_values(1).unique().tolist()\n",
    "# drop stablecoins\n",
    "new_tickers = [ticker for ticker in tickers if ticker not in ['USDC', 'USTC']]\n",
    "# filter tickers\n",
    "df = df.loc[:, new_tickers, :].sort_index()\n",
    "# df = df.loc['2020-08-20':, new_tickers, :].sort_index()\n",
    "# # extended df\n",
    "# ext_df = pd.concat([cc_df.loc[:'2020-08-19', new_tickers, :], df])"
   ]
  },
  {
   "cell_type": "code",
   "execution_count": null,
   "id": "8292b647-fb6d-45d8-867a-1c6f4bc943c0",
   "metadata": {},
   "outputs": [],
   "source": [
    "# trend factors\n",
    "window_params = [5 10, 15, 30, 45, 60, 90]\n",
    "factors = Trend.available_methods()\n",
    "signal_factors = ['adx', 'breakout', 'divergence', 'rsi', 'stochastic', 'snr', 'triple_ewma_diff']\n",
    "\n",
    "# trend df\n",
    "trend_df = pd.DataFrame()\n",
    "for factor in factors:\n",
    "    for window in window_params:\n",
    "        trend_df = pd.concat([trend_df, getattr(Trend(df[['open', 'high', 'low', 'close']], \n",
    "                                  vwap=True, \n",
    "                                  log=True, \n",
    "                                  window_size=window,\n",
    "                                  window_type='ewm',\n",
    "                                 ), factor)()], axis=1)"
   ]
  },
  {
   "cell_type": "code",
   "execution_count": null,
   "id": "c09069cd-395f-40ad-b819-1cb1b2539149",
   "metadata": {},
   "outputs": [],
   "source": [
    "# compute total returns\n",
    "ret_df = Transform(df.close).returns()\n",
    "ret_df = pd.concat([ret_df, df.funding_rate.fillna(0)], axis=1)\n",
    "ret_df['tr'] = ret_df.close.subtract(ret_df.funding_rate, axis=0)"
   ]
  },
  {
   "cell_type": "code",
   "execution_count": null,
   "id": "67d48b05-a0fb-420d-b72a-dd652c40a630",
   "metadata": {},
   "outputs": [],
   "source": [
    "# mkt returns\n",
    "mkt_ret = Transform(df).returns(market=True, mkt_field='close')"
   ]
  },
  {
   "cell_type": "code",
   "execution_count": null,
   "id": "5b3821e7-4cdc-4476-8a28-0e14e8f1ae07",
   "metadata": {},
   "outputs": [],
   "source": [
    "# signals\n",
    "trend_ls_signal = Signal(trend_df, \n",
    "                      returns=ret_df.tr,\n",
    "                      strategy='time_series', \n",
    "                      direction='long_short',\n",
    "                     )"
   ]
  },
  {
   "cell_type": "code",
   "execution_count": null,
   "id": "a0ac07bd-aaca-4435-b2ab-b3c1b347e9ba",
   "metadata": {},
   "outputs": [],
   "source": [
    "if factor in signal_factors:\n",
    "    trend_signal_rets = trend_ls_signal.compute_signal_returns(signal_type=None,\n",
    "                                                               t_cost=0.001,\n",
    "                                                               leverage=2)\n",
    "else:\n",
    "    trend_signal_rets = trend_ls_signal.compute_signal_returns(signal_type='signal',\n",
    "                                                               t_cost=0.001,\n",
    "                                                               leverage=2)"
   ]
  },
  {
   "cell_type": "code",
   "execution_count": null,
   "id": "514a2477-bc13-42e4-81cc-1505f99e3b9f",
   "metadata": {},
   "outputs": [],
   "source": [
    "# trend asset returns\n",
    "trend_ls_asset_ret = trend_signal_rets.loc[:, 'BTC', :]"
   ]
  },
  {
   "cell_type": "code",
   "execution_count": null,
   "id": "bbe19309-ecea-465e-a5ca-b62c738e8f5a",
   "metadata": {},
   "outputs": [],
   "source": [
    "# trend BTC\n",
    "trend_btc_breakout = trend_ls_asset_ret[['breakout_30']]\n",
    "trend_btc = trend_ls_asset_ret.mean(axis=1).to_frame('trend_factor')"
   ]
  },
  {
   "cell_type": "code",
   "execution_count": null,
   "id": "d5e52fac-1009-4229-a1b5-913fc26388fe",
   "metadata": {},
   "outputs": [],
   "source": [
    "btc_perps = ret_df.loc[:, 'BTC', :][['tr']]\n",
    "btc_spot = ret_df.loc[:, 'BTC', :][['close']]"
   ]
  },
  {
   "cell_type": "code",
   "execution_count": null,
   "id": "730d4f6a-4ae1-44ea-abc3-3fc2cd0ef588",
   "metadata": {},
   "outputs": [],
   "source": [
    "strat_df = pd.concat([btc_spot, trend_btc], axis=1)\n",
    "strat_df.columns = ['HodlBTC', 'TrendBTC']"
   ]
  },
  {
   "cell_type": "markdown",
   "id": "cf3af3e7-84a0-4df3-a0fd-0b548186ae77",
   "metadata": {},
   "source": [
    "## Description\n",
    "\n",
    "Trend strategies exploit the persistence of trends in asset prices by going long assets whose prices have been rising and short assets whose prices have been falling.\n",
    "\n",
    "Trend following has several advantages that make it an attractive strategy for investors:\n",
    "\n",
    "- *Positive and high risk-adjusted returns.*\n",
    "- *Low correlations to long market exposure, eg. HodlBTC.*\n",
    "- *Lower volatility/drawdowns.*\n",
    "- *Positive returns during bitcoin drawdowns/bear markets.*"
   ]
  },
  {
   "cell_type": "markdown",
   "id": "bed69d5e-4c5f-4ab2-86b6-f2fa8e3f10d0",
   "metadata": {},
   "source": [
    "### Economic Rationale"
   ]
  },
  {
   "cell_type": "markdown",
   "id": "4d4efaa0-f0d7-4dc3-b49d-fca9c23bc189",
   "metadata": {},
   "source": [
    "Price trends can persist for behavioral as well as risk-based reasons. The effectiveness of the momentum effect is well documented in quantitative finance. Behavioral explanations suggest that investors tend to under-react to new information in the short-term and subsequently chase returns leading to a \"bandwagon\" or herding effect. Alternatively, risk-based explanations argue that the momentum premium can be explained by macroeconomic risks like liquidity and other macro factors. "
   ]
  },
  {
   "cell_type": "markdown",
   "id": "c13dbb80-9868-43a6-80dd-e4e6020a092a",
   "metadata": {},
   "source": [
    "### TrendBTC"
   ]
  },
  {
   "cell_type": "markdown",
   "id": "b757eb7f-5666-45b4-9771-1c23452bf9c3",
   "metadata": {},
   "source": [
    "**TrendBTC seeks to produce similar returns as a buy-and-hold Bitcoin strategy (HodlBTC) with much lower risk**. "
   ]
  },
  {
   "cell_type": "markdown",
   "id": "257e424e-9038-4caa-ba87-6c6c3f161cb9",
   "metadata": {},
   "source": [
    "#### Methodology\n",
    "\n",
    "- **Asset universe**: Bitcoin (BTC)\n",
    "\n",
    "- **Factor construction**: this involves transforming price data into trend factor scores that quantify the strength and direction of an asset's price momentum relative to its past history and capture the tendency of assets that have performed well (or poorly) in the past to continue performing well (or poorly) in the future. It is computed using smoothing/filtering techniques by taking the difference between the current price and the price of the asset n periods ago, where n is the lookback window.\n",
    "\n",
    "- **Signal generation**: once factor scores are computed, they are converted into signals (forecasts) with values between -1 and 1 using some form of mathematical transformation (learner or function).\n",
    "\n",
    "- **Sizing**: positions are sized in order to achieve a desired volatility target. A volatility scaling factor is computed as the volatility target divided by the realized volatility over the past 3 months. The signal is adjusted by the volatility scaling factor.\n",
    "\n",
    "- **Rebalancing**: daily.\n",
    "\n",
    "- **Leverage**: 2x."
   ]
  },
  {
   "cell_type": "markdown",
   "id": "7ab5c9d0-c3c1-4b8e-9217-edac8c70c96d",
   "metadata": {},
   "source": [
    "### Market Regimes\n",
    "\n",
    "Trend strategies work well in trending markets, and poorly in directionless markets. Trending markets can often coincide with periods of high volatility and stress in financial markets, also known as crisis alpha. Hence, they can be good diversifiers during bad times for most assets (see diversification below)."
   ]
  },
  {
   "cell_type": "markdown",
   "id": "6a333527-c070-4553-b034-bc45b04577c8",
   "metadata": {},
   "source": [
    "## Performance"
   ]
  },
  {
   "cell_type": "markdown",
   "id": "daf3644b-649c-4d74-8f1f-40d332cbd2cb",
   "metadata": {},
   "source": [
    "### Returns"
   ]
  },
  {
   "cell_type": "code",
   "execution_count": null,
   "id": "e5de0f88-10de-4a71-85fc-f7548f0da55c",
   "metadata": {},
   "outputs": [],
   "source": [
    "# cumulative returns\n",
    "cum_rets = Metrics(strat_df).cumulative_returns()\n",
    "cum_rets = cum_rets.fillna(0)\n",
    "cum_rets = cum_rets.reset_index().melt(id_vars='date', var_name='Series', value_name='Value')"
   ]
  },
  {
   "cell_type": "code",
   "execution_count": null,
   "id": "3dc93f6e-c1fa-4d6b-98b0-93645554761d",
   "metadata": {},
   "outputs": [],
   "source": [
    "line_chart = alt.Chart(cum_rets).mark_line().encode(\n",
    "    x=alt.X('date:T', title='Date'),\n",
    "    y=alt.Y('Value:Q', title='Cumulative Return', axis=alt.Axis(format='%')),\n",
    "    color=alt.Color('Series:N', title='', scale=alt.Scale(\n",
    "        # domain=['Bitcoin', 'Gold + Bitcoin + USD'],\n",
    "        range=['#FF6B6C', '#5DA4DF']\n",
    "    )),\n",
    "    # light blue and light pink/red,\n",
    "    tooltip=[alt.Tooltip('date:T', title='Date'),\n",
    "             alt.Tooltip('Series:N', title='Series'),\n",
    "             alt.Tooltip('Value:Q', format=\".2%\")]\n",
    ").properties(\n",
    "    width='container',\n",
    "    height=400,\n",
    "    title='Cumulative Returns - HodlBTC vs. TrendBTC'\n",
    ").interactive()\n",
    "\n",
    "line_chart"
   ]
  },
  {
   "cell_type": "code",
   "execution_count": null,
   "id": "cec83410-0275-4cef-bd92-1eb9c307f086",
   "metadata": {},
   "outputs": [],
   "source": [
    "# table\n",
    "perf = Performance(strat_df, factor_returns=None, ann_factor=365).get_table(metrics='key_metrics', rank_on='Calmar ratio')"
   ]
  },
  {
   "cell_type": "code",
   "execution_count": null,
   "id": "4cfac489-5d86-4d0f-9193-a19c8b27c6c1",
   "metadata": {},
   "outputs": [],
   "source": [
    "table = perf.reset_index().rename(columns={'index':''})"
   ]
  },
  {
   "cell_type": "code",
   "execution_count": null,
   "id": "3aaab52c-b356-4a21-836e-e215ca714031",
   "metadata": {},
   "outputs": [],
   "source": [
    "table"
   ]
  },
  {
   "cell_type": "code",
   "execution_count": null,
   "id": "3ec8bb4b-ee8a-4c2d-9932-2d2657578896",
   "metadata": {},
   "outputs": [],
   "source": [
    "# Format columns: 1–3 as %, rest as float\n",
    "formatted_data = []\n",
    "\n",
    "for i, col in enumerate(table.columns):\n",
    "    if i == 0:\n",
    "        # Keep the index/label column as-is\n",
    "        formatted_col = table[col]\n",
    "    elif 1 <= i <= 3:\n",
    "        # Format as percentage\n",
    "        formatted_col = table[col].apply(lambda x: f\"{x * 100:.2f}%\")\n",
    "    else:\n",
    "        # Format as float with 2 decimals\n",
    "        formatted_col = table[col].apply(lambda x: f\"{x:.2f}\")\n",
    "    formatted_data.append(formatted_col)"
   ]
  },
  {
   "cell_type": "code",
   "execution_count": null,
   "id": "e4ce170f-3923-437a-a2a7-4392ce7b15f1",
   "metadata": {},
   "outputs": [],
   "source": [
    "# Create Plotly Table\n",
    "fig = go.Figure(data=[go.Table(\n",
    "    header=dict(\n",
    "        values=list(table.columns),\n",
    "        fill_color=None,\n",
    "        align='center',\n",
    "        font=dict(color='black', size=12, weight=500, family='Lato')\n",
    "    ),\n",
    "    cells=dict(\n",
    "        values=formatted_data,\n",
    "        fill_color=None,\n",
    "        align='center',\n",
    "        font=dict(size=11, weight=250, family='Lato')\n",
    "    )\n",
    ")])\n",
    "\n",
    "\n",
    "fig.update_layout(\n",
    "    margin=dict(l=0, r=0, t=10, b=0),\n",
    "    height=100\n",
    ")\n",
    "\n",
    "fig.show()"
   ]
  },
  {
   "cell_type": "code",
   "execution_count": null,
   "id": "253258b3-613f-448c-bdce-187da33250ff",
   "metadata": {},
   "outputs": [],
   "source": [
    "# monthly heatmap\n",
    "ret_df = strat_df * 100\n",
    "\n",
    "# reset index\n",
    "ret_df.reset_index(inplace=True)\n",
    "# get year and month\n",
    "ret_df[\"year\"] = ret_df.date.apply(lambda x: x.year)\n",
    "ret_df[\"month\"] = ret_df.date.apply(lambda x: x.strftime(\"%B\"))\n",
    "\n",
    "# create table\n",
    "monthly_ret = ret_df.pivot_table(index=\"year\", columns=\"month\", values='TrendBTC', aggfunc=\"sum\")\n",
    "# rename cols, index\n",
    "monthly_ret.columns.name, monthly_ret.index.name = '', ''\n",
    "cols = [\"January\", \"February\", \"March\", \"April\", \"May\", \"June\", \"July\", \"August\", \"September\", \"October\",\n",
    "        \"November\", \"December\"]\n",
    "monthly_ret = monthly_ret.reindex(columns=cols)\n",
    "monthly_ret.columns = [col[:3] for col in cols]\n",
    "\n",
    "# compute yearly return\n",
    "monthly_ret.loc[:, 'Annual'] = monthly_ret.sum(axis=1)\n",
    "monthly_ret = monthly_ret.round(decimals=2)  # round"
   ]
  },
  {
   "cell_type": "code",
   "execution_count": null,
   "id": "df85ca0b-3cdb-49bf-a204-8e5b676aea1a",
   "metadata": {},
   "outputs": [],
   "source": [
    "# DataFrame\n",
    "monthly_ret[\"Year\"] = monthly_ret.index\n",
    "\n",
    "# Melt to long format\n",
    "df_long = monthly_ret.melt(id_vars=\"Year\", var_name=\"Month\", value_name=\"Return\")\n",
    "\n",
    "# Month order\n",
    "month_order = [\"Jan\", \"Feb\", \"Mar\", \"Apr\", \"May\", \"Jun\", \n",
    "               \"Jul\", \"Aug\", \"Sep\", \"Oct\", \"Nov\", \"Dec\", \"Annual\"]\n",
    "\n",
    "# Min/max for color scale\n",
    "min_val = df_long[\"Return\"].min()\n",
    "max_val = df_long[\"Return\"].max()\n",
    "\n",
    "# Interactive selection\n",
    "highlight = alt.selection_point(fields=[\"Month\", \"Year\"], on=\"mouseover\", clear=\"mouseout\")\n",
    "\n",
    "# Base chart\n",
    "base = alt.Chart(df_long).encode(\n",
    "    x=alt.X(\"Month:O\", sort=month_order, title=\"\", axis=alt.Axis(labelAngle=0)),\n",
    "    y=alt.Y(\"Year:O\", sort=\"ascending\", title=\"\", axis=alt.Axis(labelFontWeight=\"bold\"))\n",
    ")\n",
    "\n",
    "# Heatmap\n",
    "heatmap = base.mark_rect().encode(\n",
    "    color=alt.Color(\"Return:Q\", scale=alt.Scale(scheme=\"redyellowgreen\", domainMid=0), legend=alt.Legend(title=\"Return (%)\")),\n",
    "    opacity=alt.condition(highlight, alt.value(1.0), alt.value(0.85)),\n",
    "    tooltip=[\n",
    "        alt.Tooltip(\"Year:O\"),\n",
    "        alt.Tooltip(\"Month:O\"),\n",
    "        alt.Tooltip(\"Return:Q\", format=\".2f\", title=\"Return (%)\")\n",
    "    ]\n",
    ").add_params(highlight)\n",
    "\n",
    "# Add a new text field for labels\n",
    "df_long[\"label\"] = df_long[\"Return\"].map(lambda x: f\"{x:.0f}%\" if pd.notnull(x) else \"\")\n",
    "\n",
    "# Text layer\n",
    "text = alt.Chart(df_long).mark_text(baseline=\"middle\", fontSize=12).encode(\n",
    "    x=alt.X(\"Month:O\", sort=month_order),\n",
    "    y=alt.Y(\"Year:O\", sort=\"ascending\"),\n",
    "    text=alt.Text(\"label:N\"),\n",
    "    color=alt.condition(\n",
    "        alt.datum.Return > 50,\n",
    "        alt.value(\"white\"),\n",
    "        alt.value(\"black\")\n",
    "    )\n",
    ")\n",
    "\n",
    "# Combine and display\n",
    "final_chart = (heatmap + text).properties(\n",
    "    width=800,\n",
    "    height=400,\n",
    "    title=\"Monthly Returns\"\n",
    ")\n",
    "\n",
    "final_chart.display()"
   ]
  },
  {
   "cell_type": "markdown",
   "id": "84904f88-82b9-40b7-ba2c-872b7241533a",
   "metadata": {},
   "source": [
    "### Drawdowns"
   ]
  },
  {
   "cell_type": "code",
   "execution_count": null,
   "id": "1ac3f78b-de99-4bab-8460-ec55f44441ca",
   "metadata": {},
   "outputs": [],
   "source": [
    "dd = Metrics(strat_df).drawdown()"
   ]
  },
  {
   "cell_type": "code",
   "execution_count": null,
   "id": "728e5847-54b5-4037-b6bf-1d44dc833814",
   "metadata": {},
   "outputs": [],
   "source": [
    "dd = dd.reset_index().melt(id_vars='date', var_name='Series', value_name='Value')"
   ]
  },
  {
   "cell_type": "code",
   "execution_count": null,
   "id": "f1db64d5-a014-4c9f-b667-4d920550efed",
   "metadata": {},
   "outputs": [],
   "source": [
    "dd_chart = alt.Chart(dd).mark_line().encode(\n",
    "    x=alt.X('date:T', title='Date'),\n",
    "    y=alt.Y('Value:Q', title='Drawdowns (%)', axis=alt.Axis(format='%')),\n",
    "    color=alt.Color('Series:N', title='', scale=alt.Scale(\n",
    "        range=['#FF6B6C', '#5DA4DF']\n",
    "    )),\n",
    "    # light blue and light pink/red,\n",
    "    tooltip=[alt.Tooltip('date:T', title='Date'),\n",
    "             alt.Tooltip('Series:N', title='Series'),\n",
    "             alt.Tooltip('Value:Q', format=\".2%\")]\n",
    ").properties(\n",
    "    width='container',\n",
    "    height=400,\n",
    "    title='Drawdowns - HodlBTC vs. TrendBTC'\n",
    ").interactive()\n",
    "\n",
    "dd_chart"
   ]
  },
  {
   "cell_type": "markdown",
   "id": "c1fa7f74-0873-40d6-8809-0898da34e770",
   "metadata": {},
   "source": [
    "### Diversification"
   ]
  },
  {
   "cell_type": "code",
   "execution_count": null,
   "id": "65f02f6e-f460-4ff0-b784-5f7ecfad07c7",
   "metadata": {},
   "outputs": [],
   "source": [
    "# Reset index for melting\n",
    "corr_df = strat_df.corr().reset_index().rename(columns={'index': 'Var1'})\n",
    "\n",
    "# Melt into long format\n",
    "df_long = corr_df.melt(id_vars='Var1', var_name='Var2', value_name='Correlation')\n",
    "\n",
    "# Base chart\n",
    "base = alt.Chart(df_long).encode(\n",
    "    x=alt.X('Var2:N', title='', axis=alt.Axis(labelAngle=0)),\n",
    "    y=alt.Y('Var1:N', title=''),\n",
    ")\n",
    "\n",
    "# Heatmap layer\n",
    "heatmap = base.mark_rect().encode(\n",
    "    color=alt.Color('Correlation:Q',\n",
    "                    scale=alt.Scale(scheme='redyellowgreen', domain=[-1, 0, 1]),\n",
    "                    legend=alt.Legend(title='Correlation'))\n",
    ")\n",
    "\n",
    "# Text layer with values\n",
    "text = base.mark_text().encode(\n",
    "    text=alt.Text('Correlation:Q', format=\".2f\"),\n",
    "    color=alt.condition(\n",
    "        \"abs(datum.Correlation) > 0.5\",\n",
    "        alt.value('white'),\n",
    "        alt.value('black')\n",
    "    )\n",
    ")\n",
    "\n",
    "# Combine chart\n",
    "chart = (heatmap + text).properties(\n",
    "    width=300,\n",
    "    height=300,\n",
    "    title='Correlation Heatmap'\n",
    ").configure_view(\n",
    "    strokeWidth=0\n",
    ")\n",
    "\n",
    "chart"
   ]
  },
  {
   "cell_type": "code",
   "execution_count": null,
   "id": "c804c50e-5929-4278-b76a-47dbd67aa191",
   "metadata": {},
   "outputs": [],
   "source": [
    "def prepare_rolling_corr_with_drawdown_bear_flag(drawdown: pd.Series,\n",
    "                                                 buy_hold: pd.Series,\n",
    "                                                 trend_following: pd.Series,\n",
    "                                                 window: int = 90,\n",
    "                                                 drawdown_threshold: float = -0.3) -> pd.DataFrame:\n",
    "    \"\"\"\n",
    "    Prepares a DataFrame with rolling correlation and bear flags,\n",
    "    using precomputed drawdown series.\n",
    "    \"\"\"\n",
    "    df = pd.concat([buy_hold, trend_following, drawdown], axis=1).dropna()\n",
    "    df.columns = ['buy_hold', 'trend_following', 'drawdown']\n",
    "\n",
    "    df['rolling_corr'] = df['buy_hold'].rolling(window).corr(df['trend_following'])\n",
    "    df['is_bear'] = df['drawdown'] <= drawdown_threshold\n",
    "\n",
    "    return df.dropna(subset=['rolling_corr']).reset_index().rename(columns={'index': 'date'})\n"
   ]
  },
  {
   "cell_type": "code",
   "execution_count": null,
   "id": "2a002362-b4ef-44a3-927a-f5c1f2c874f6",
   "metadata": {},
   "outputs": [],
   "source": [
    "def identify_bear_drawdown_intervals(df: pd.DataFrame) -> pd.DataFrame:\n",
    "    df = df.copy()\n",
    "    df['prev'] = df['is_bear'].shift(fill_value=False)\n",
    "\n",
    "    df['start'] = (df['is_bear'] == True) & (df['prev'] == False)\n",
    "    df['end'] = (df['is_bear'] == False) & (df['prev'] == True)\n",
    "\n",
    "    starts = df.loc[df['start'], 'date'].tolist()\n",
    "    ends = df.loc[df['end'], 'date'].tolist()\n",
    "\n",
    "    if df['is_bear'].iloc[-1]:\n",
    "        ends.append(df['date'].iloc[-1])\n",
    "\n",
    "    return pd.DataFrame({'start': starts, 'end': ends})\n"
   ]
  },
  {
   "cell_type": "code",
   "execution_count": null,
   "id": "56463a6d-1465-4902-92f9-5359dd37cc37",
   "metadata": {},
   "outputs": [],
   "source": [
    "def plot_rolling_corr_with_drawdown_shading(df: pd.DataFrame) -> alt.Chart:\n",
    "    \"\"\"\n",
    "    Plots rolling correlation with shaded bear regimes, clean x-axis.\n",
    "    \"\"\"\n",
    "    base = alt.Chart(df).encode(\n",
    "        x=alt.X('date:T', axis=alt.Axis(title='Date'))\n",
    "    )\n",
    "\n",
    "    corr_line = base.mark_line(color='#5DA4DF').encode(\n",
    "        y=alt.Y('rolling_corr:Q', title='Rolling 90 Day Correlation')\n",
    "    )\n",
    "\n",
    "    # Get start–end intervals for bear shading\n",
    "    bear_df = identify_bear_drawdown_intervals(df)\n",
    "\n",
    "    shading = alt.Chart(bear_df).mark_rect(\n",
    "        opacity=0.3,\n",
    "        color='lightgray'\n",
    "    ).encode(\n",
    "        x='start:T',\n",
    "        x2='end:T'\n",
    "    ).properties(\n",
    "        width=800\n",
    "    )\n",
    "\n",
    "    chart = alt.layer(shading, corr_line).resolve_scale(\n",
    "        x='shared'\n",
    "    ).properties(\n",
    "        width=800,\n",
    "        height=400,\n",
    "        title='Rolling 90 Day Correlation During Bear Regime (Drawdown > -30%) - HodlBTC vs. TrendBTC'\n",
    "    )\n",
    "\n",
    "    return chart\n"
   ]
  },
  {
   "cell_type": "code",
   "execution_count": null,
   "id": "6aa8a422-9726-468c-a0e2-8cfc2ddf0160",
   "metadata": {},
   "outputs": [],
   "source": [
    "# drawdown = Metrics(strat_df.HodlBTC).drawdown()\n",
    "drawdown = strat_df.HodlBTC.rolling(90).sum()\n",
    "\n",
    "df = prepare_rolling_corr_with_drawdown_bear_flag(\n",
    "    drawdown=drawdown,\n",
    "    buy_hold=strat_df.HodlBTC,\n",
    "    trend_following=strat_df.TrendBTC,\n",
    "    window=60,\n",
    "    drawdown_threshold=-0.3\n",
    ")\n",
    "\n",
    "chart = plot_rolling_corr_with_drawdown_shading(df)\n",
    "chart.display()\n"
   ]
  },
  {
   "cell_type": "markdown",
   "id": "0711d424-fbda-4602-a6b8-3ce38a069e7b",
   "metadata": {},
   "source": [
    "## Literature\n",
    "\n",
    "- [Rozario-Holt-West-Ng 2020- “A Decade of Evidence of Trend Following Investing in Cryptocurrencies”](https://arxiv.org/abs/2009.12155)\n",
    "- [Tzouvanas-Kizys 2020 - “Momentum trading in cryptocurrencies: Short-term returns and diversification benefits”](https://www.sciencedirect.com/science/article/abs/pii/S0165176519303647)\n",
    "- [Liu-Tsyvinsky-Wu 2019 - “Common Risk Factors in Cryptocurrency”](https://papers.ssrn.com/sol3/papers.cfm?abstract_id=3394671)\n",
    "- [Kakushadze 2018 - “Cryptoasset Factor Models”](https://arxiv.org/abs/1811.07860)\n",
    "- [Hubrich 2017 - “Know when to hodl them, know when to\n",
    "fodl them”: An Investigation of Factor Based\n",
    "Investing in the Cryptocurrency Space](https://papers.ssrn.com/sol3/papers.cfm?abstract_id=3055498)\n",
    "- [Asness-Moskowitz-Pedersen 2012 - “Value and Momentum Everywhere”](https://papers.ssrn.com/sol3/papers.cfm?abstract_id=2174501)\n",
    "- [Moskowitz-Hua Ooi-Pedersen 2010 - “Time Series Momentum”](https://papers.ssrn.com/sol3/papers.cfm?abstract_id=2089463)"
   ]
  },
  {
   "cell_type": "code",
   "execution_count": null,
   "id": "1bfef853-d732-4799-abfe-12ba7b99c79b",
   "metadata": {},
   "outputs": [],
   "source": []
  }
 ],
 "metadata": {
  "kernelspec": {
   "display_name": "blackbox",
   "language": "python",
   "name": "blackbox"
  },
  "language_info": {
   "codemirror_mode": {
    "name": "ipython",
    "version": 3
   },
   "file_extension": ".py",
   "mimetype": "text/x-python",
   "name": "python",
   "nbconvert_exporter": "python",
   "pygments_lexer": "ipython3",
   "version": "3.9.20"
  }
 },
 "nbformat": 4,
 "nbformat_minor": 5
}
